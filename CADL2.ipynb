{
  "nbformat": 4,
  "nbformat_minor": 0,
  "metadata": {
    "colab": {
      "provenance": [],
      "authorship_tag": "ABX9TyMJQ/UUJzg7PteJH8Ip1svi",
      "include_colab_link": true
    },
    "kernelspec": {
      "name": "python3",
      "display_name": "Python 3"
    },
    "language_info": {
      "name": "python"
    }
  },
  "cells": [
    {
      "cell_type": "markdown",
      "metadata": {
        "id": "view-in-github",
        "colab_type": "text"
      },
      "source": [
        "<a href=\"https://colab.research.google.com/github/meghanamanoj24/NLP/blob/main/CADL2.ipynb\" target=\"_parent\"><img src=\"https://colab.research.google.com/assets/colab-badge.svg\" alt=\"Open In Colab\"/></a>"
      ]
    },
    {
      "cell_type": "code",
      "execution_count": null,
      "metadata": {
        "id": "t3W2QAtwvRQo"
      },
      "outputs": [],
      "source": [
        "from sklearn.feature_extraction.text import CountVectorizer, TfidfVectorizer\n",
        "\n",
        "# Sample dataset (movie reviews)\n",
        "corpus = [\n",
        "    \"The movie was fantastic and full of suspense.\",\n",
        "    \"I did not like the movie, it was too slow.\",\n",
        "    \"What a great performance by the lead actor!\",\n",
        "    \"The film was dull and boring.\"\n",
        "]\n",
        "\n",
        "# --- Bag of Words ---\n",
        "vectorizer = CountVectorizer()\n",
        "X_bow = vectorizer.fit_transform(corpus)\n",
        "print(\"Bag of Words representation:\")\n",
        "print(vectorizer.get_feature_names_out())\n",
        "print(X_bow.toarray())\n",
        "\n",
        "# --- TF-IDF ---\n",
        "tfidf_vectorizer = TfidfVectorizer()\n",
        "X_tfidf = tfidf_vectorizer.fit_transform(corpus)\n",
        "print(\"\\nTF-IDF representation:\")\n",
        "print(tfidf_vectorizer.get_feature_names_out())\n",
        "print(X_tfidf.toarray())\n"
      ]
    }
  ]
}