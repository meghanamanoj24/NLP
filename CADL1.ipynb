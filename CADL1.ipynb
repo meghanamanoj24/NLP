{
  "nbformat": 4,
  "nbformat_minor": 0,
  "metadata": {
    "colab": {
      "provenance": [],
      "gpuType": "T4",
      "authorship_tag": "ABX9TyP8CPE/AXOKlDKPmOT33kb6",
      "include_colab_link": true
    },
    "kernelspec": {
      "name": "python3",
      "display_name": "Python 3"
    },
    "language_info": {
      "name": "python"
    },
    "accelerator": "GPU"
  },
  "cells": [
    {
      "cell_type": "markdown",
      "metadata": {
        "id": "view-in-github",
        "colab_type": "text"
      },
      "source": [
        "<a href=\"https://colab.research.google.com/github/meghanamanoj24/NLP/blob/main/CADL1.ipynb\" target=\"_parent\"><img src=\"https://colab.research.google.com/assets/colab-badge.svg\" alt=\"Open In Colab\"/></a>"
      ]
    },
    {
      "cell_type": "code",
      "execution_count": 1,
      "metadata": {
        "colab": {
          "base_uri": "https://localhost:8080/"
        },
        "id": "3fI0I0ShJqvF",
        "outputId": "727c9130-57f6-4cfb-e96e-4cf2bf042b8d"
      },
      "outputs": [
        {
          "output_type": "stream",
          "name": "stderr",
          "text": [
            "[nltk_data] Downloading package punkt to /root/nltk_data...\n",
            "[nltk_data]   Unzipping tokenizers/punkt.zip.\n",
            "[nltk_data] Downloading package punkt_tab to /root/nltk_data...\n",
            "[nltk_data]   Unzipping tokenizers/punkt_tab.zip.\n",
            "[nltk_data] Downloading package stopwords to /root/nltk_data...\n",
            "[nltk_data]   Unzipping corpora/stopwords.zip.\n",
            "[nltk_data] Downloading package wordnet to /root/nltk_data...\n"
          ]
        },
        {
          "output_type": "stream",
          "name": "stdout",
          "text": [
            "🔹 Tokenization\n",
            "Original: Major technology companies are investing heavily in artificial intelligence.\n",
            "Tokens: ['Major', 'technology', 'companies', 'are', 'investing', 'heavily', 'in', 'artificial', 'intelligence', '.']\n",
            "\n",
            "Original: People are posting about climate change and sustainable living on social media.\n",
            "Tokens: ['People', 'are', 'posting', 'about', 'climate', 'change', 'and', 'sustainable', 'living', 'on', 'social', 'media', '.']\n",
            "\n",
            "Original: Morning yoga and high-protein diets are trending among fitness enthusiasts.\n",
            "Tokens: ['Morning', 'yoga', 'and', 'high-protein', 'diets', 'are', 'trending', 'among', 'fitness', 'enthusiasts', '.']\n",
            "\n",
            "🔹 Stopword Removal\n",
            "Filtered Tokens: ['Major', 'technology', 'companies', 'investing', 'heavily', 'artificial', 'intelligence', '.']\n",
            "\n",
            "Filtered Tokens: ['People', 'posting', 'climate', 'change', 'sustainable', 'living', 'social', 'media', '.']\n",
            "\n",
            "Filtered Tokens: ['Morning', 'yoga', 'high-protein', 'diets', 'trending', 'among', 'fitness', 'enthusiasts', '.']\n",
            "\n",
            "🔹 Stemming\n",
            "Stemmed: ['major', 'technolog', 'compani', 'are', 'invest', 'heavili', 'in', 'artifici', 'intellig', '.']\n",
            "\n",
            "Stemmed: ['peopl', 'are', 'post', 'about', 'climat', 'chang', 'and', 'sustain', 'live', 'on', 'social', 'media', '.']\n",
            "\n",
            "Stemmed: ['morn', 'yoga', 'and', 'high-protein', 'diet', 'are', 'trend', 'among', 'fit', 'enthusiast', '.']\n",
            "\n",
            "🔹 Lemmatization\n",
            "Lemmatized: ['Major', 'technology', 'company', 'are', 'investing', 'heavily', 'in', 'artificial', 'intelligence', '.']\n",
            "\n",
            "Lemmatized: ['People', 'are', 'posting', 'about', 'climate', 'change', 'and', 'sustainable', 'living', 'on', 'social', 'medium', '.']\n",
            "\n",
            "Lemmatized: ['Morning', 'yoga', 'and', 'high-protein', 'diet', 'are', 'trending', 'among', 'fitness', 'enthusiast', '.']\n",
            "\n",
            "🔹 Lemmatization with spaCy\n",
            "spaCy Lemmas: ['major', 'technology', 'company', 'be', 'invest', 'heavily', 'in', 'artificial', 'intelligence', '.']\n",
            "\n",
            "spaCy Lemmas: ['People', 'be', 'post', 'about', 'climate', 'change', 'and', 'sustainable', 'live', 'on', 'social', 'medium', '.']\n",
            "\n",
            "spaCy Lemmas: ['morning', 'yoga', 'and', 'high', '-', 'protein', 'diet', 'be', 'trend', 'among', 'fitness', 'enthusiast', '.']\n",
            "\n"
          ]
        }
      ],
      "source": [
        "# CADL1: Preprocessing Steps\n",
        "# Import libraries\n",
        "import nltk\n",
        "import spacy\n",
        "from nltk.tokenize import word_tokenize\n",
        "from nltk.corpus import stopwords\n",
        "from nltk.stem import PorterStemmer, WordNetLemmatizer\n",
        "\n",
        "# Download NLTK resources (run once)\n",
        "nltk.download('punkt')\n",
        "nltk.download(\"punkt_tab\")  # punkt tables (new requirement in recent NLTK versions)\n",
        "nltk.download('stopwords')\n",
        "nltk.download('wordnet')\n",
        "\n",
        "# Sample text corpus\n",
        "corpus = [\n",
        "    \"Major technology companies are investing heavily in artificial intelligence.\",\n",
        "    \"People are posting about climate change and sustainable living on social media.\",\n",
        "    \"Morning yoga and high-protein diets are trending among fitness enthusiasts.\"\n",
        "]\n",
        "\n",
        "# Tokenization (NLTK)\n",
        "print(\"🔹 Tokenization\")\n",
        "for text in corpus:\n",
        "    tokens = word_tokenize(text)\n",
        "    print(f\"Original: {text}\")\n",
        "    print(f\"Tokens: {tokens}\\n\")\n",
        "\n",
        "# Stopword removal (NLTK)\n",
        "stop_words = set(stopwords.words('english'))\n",
        "print(\"🔹 Stopword Removal\")\n",
        "for text in corpus:\n",
        "    tokens = word_tokenize(text)\n",
        "    filtered = [w for w in tokens if w.lower() not in stop_words]\n",
        "    print(f\"Filtered Tokens: {filtered}\\n\")\n",
        "\n",
        "# Stemming (NLTK - PorterStemmer)\n",
        "ps = PorterStemmer()\n",
        "print(\"🔹 Stemming\")\n",
        "for text in corpus:\n",
        "    tokens = word_tokenize(text)\n",
        "    stemmed = [ps.stem(w) for w in tokens]\n",
        "    print(f\"Stemmed: {stemmed}\\n\")\n",
        "\n",
        "# Lemmatization (NLTK - WordNetLemmatizer)\n",
        "lemmatizer = WordNetLemmatizer()\n",
        "print(\"🔹 Lemmatization\")\n",
        "for text in corpus:\n",
        "    tokens = word_tokenize(text)\n",
        "    lemmatized = [lemmatizer.lemmatize(w) for w in tokens]\n",
        "    print(f\"Lemmatized: {lemmatized}\\n\")\n",
        "\n",
        "# Lemmatization with spaCy\n",
        "nlp = spacy.load(\"en_core_web_sm\")\n",
        "print(\"🔹 Lemmatization with spaCy\")\n",
        "for text in corpus:\n",
        "    doc = nlp(text)\n",
        "    lemmas = [token.lemma_ for token in doc]\n",
        "    print(f\"spaCy Lemmas: {lemmas}\\n\")\n"
      ]
    }
  ]
}