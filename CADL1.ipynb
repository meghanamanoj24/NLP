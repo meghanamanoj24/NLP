{
  "nbformat": 4,
  "nbformat_minor": 0,
  "metadata": {
    "colab": {
      "provenance": [],
      "authorship_tag": "ABX9TyPnWRvFikc8bfY64V7nJyKS",
      "include_colab_link": true
    },
    "kernelspec": {
      "name": "python3",
      "display_name": "Python 3"
    },
    "language_info": {
      "name": "python"
    }
  },
  "cells": [
    {
      "cell_type": "markdown",
      "metadata": {
        "id": "view-in-github",
        "colab_type": "text"
      },
      "source": [
        "<a href=\"https://colab.research.google.com/github/meghanamanoj24/NLP/blob/main/CADL1.ipynb\" target=\"_parent\"><img src=\"https://colab.research.google.com/assets/colab-badge.svg\" alt=\"Open In Colab\"/></a>"
      ]
    },
    {
      "cell_type": "code",
      "execution_count": null,
      "metadata": {
        "id": "dN8QfJKQm9nw"
      },
      "outputs": [],
      "source": [
        " # Import libraries\n",
        "import nltk\n",
        "from nltk.tokenize import word_tokenize\n",
        "from nltk.corpus import stopwords\n",
        "from nltk.stem import PorterStemmer\n",
        "import spacy\n",
        "\n",
        "# Download required NLTK data\n",
        "nltk.download('punkt')\n",
        "nltk.download('stopwords')\n",
        "nltk.download('wordnet')\n",
        "\n",
        "# Sample text corpus\n",
        "text = \"\"\"Natural Language Processing is a fascinating field. It helps machines understand human language and interpret the meaning behind words and sentences.\"\"\"\n",
        "\n",
        "# --- TOKENIZATION ---\n",
        "tokens = word_tokenize(text)\n",
        "print(\"Tokens:\")\n",
        "print(tokens)\n",
        "\n",
        "# --- STOP WORD REMOVAL ---\n",
        "stop_words = set(stopwords.words('english'))\n",
        "filtered_tokens = [word for word in tokens if word.lower() not in stop_words]\n",
        "print(\"\\nTokens after Stopword Removal:\")\n",
        "print(filtered_tokens)\n",
        "\n",
        "# --- STEMMING ---\n",
        "stemmer = PorterStemmer()\n",
        "stemmed_tokens = [stemmer.stem(word) for word in filtered_tokens]\n",
        "print(\"\\nStemmed Tokens:\")\n",
        "print(stemmed_tokens)\n",
        "\n",
        "# --- LEMMATIZATION ---\n",
        "# Using spaCy for lemmatization\n",
        "nlp = spacy.load('en_core_web_sm')\n",
        "doc = nlp(text)\n",
        "lemmatized_tokens = [token.lemma_ for token in doc if token.text.lower() not in stop_words and token.is_alpha]\n",
        "print(\"\\nLemmatized Tokens:\")\n",
        "print(lemmatized_tokens)\n"
      ]
    }
  ]
}